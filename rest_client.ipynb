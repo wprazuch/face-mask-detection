{
 "cells": [
  {
   "cell_type": "code",
   "execution_count": 47,
   "metadata": {
    "tags": []
   },
   "outputs": [
    {
     "output_type": "stream",
     "name": "stderr",
     "text": [
      "C:\\ProgramData\\Anaconda3\\envs\\deeplearning\\lib\\site-packages\\ipykernel_launcher.py:19: DeprecationWarning: tostring() is deprecated. Use tobytes() instead.\n"
     ]
    }
   ],
   "source": [
    "import requests\n",
    "import json\n",
    "import cv2\n",
    "\n",
    "from face_mask_detection.utils import visualize_detection_classification_results\n",
    "import matplotlib.pyplot as plt\n",
    "\n",
    "addr = 'http://127.0.0.1:5000/'\n",
    "#test_url = addr + '/api/image'\n",
    "\n",
    "test_url = addr + '/facemaskdetect'\n",
    "\n",
    "# prepare headers for http request\n",
    "content_type = 'image/jpeg'\n",
    "headers = {'content-type': content_type}\n",
    "\n",
    "test_image = r'dataset/test_detection/4.jpg'\n",
    "image = cv2.imread(test_image)\n",
    "# encode image as jpeg\n",
    "_, img_encoded = cv2.imencode('.jpg', image)\n",
    "# send http request with image and receive response\n",
    "response = requests.post(test_url, data=img_encoded.tostring(), headers=headers)\n",
    "# decode response"
   ]
  },
  {
   "cell_type": "code",
   "execution_count": 49,
   "metadata": {},
   "outputs": [],
   "source": [
    "response\n",
    "detections = json.loads(response.text)\n",
    "detections = detections['result']\n"
   ]
  },
  {
   "cell_type": "code",
   "execution_count": 51,
   "metadata": {},
   "outputs": [],
   "source": [
    "image_annotated = visualize_detection_classification_results(image, detections)\n",
    "plt.imshow(image_annotated)"
   ]
  },
  {
   "cell_type": "code",
   "execution_count": 53,
   "metadata": {},
   "outputs": [
    {
     "output_type": "stream",
     "name": "stderr",
     "text": [
      "C:\\ProgramData\\Anaconda3\\envs\\deeplearning\\lib\\site-packages\\ipykernel_launcher.py:21: DeprecationWarning: tostring() is deprecated. Use tobytes() instead.\n"
     ]
    }
   ],
   "source": [
    "# Predict facemask\n",
    "\n",
    "import requests\n",
    "import json\n",
    "import cv2\n",
    "\n",
    "addr = 'http://127.0.0.1:5000/'\n",
    "#test_url = addr + '/api/image'\n",
    "\n",
    "test_url = addr + '/facemaskclassify'\n",
    "\n",
    "# prepare headers for http request\n",
    "content_type = 'image/jpeg'\n",
    "headers = {'content-type': content_type}\n",
    "\n",
    "test_image = r'dataset/test_classification/without_mask/1.jpg'\n",
    "image = cv2.imread(test_image)\n",
    "# encode image as jpeg\n",
    "_, img_encoded = cv2.imencode('.jpg', image)\n",
    "# send http request with image and receive response\n",
    "response = requests.post(test_url, data=img_encoded.tostring(), headers=headers)\n",
    "# decode response"
   ]
  },
  {
   "cell_type": "code",
   "execution_count": 54,
   "metadata": {},
   "outputs": [],
   "source": [
    "response\n",
    "detections = json.loads(response.text)\n",
    "detections = detections['result']\n"
   ]
  },
  {
   "cell_type": "code",
   "execution_count": 55,
   "metadata": {},
   "outputs": [
    {
     "output_type": "execute_result",
     "data": {
      "text/plain": [
       "'No Mask'"
      ]
     },
     "metadata": {},
     "execution_count": 55
    }
   ],
   "source": [
    "detections"
   ]
  },
  {
   "cell_type": "code",
   "execution_count": null,
   "metadata": {},
   "outputs": [],
   "source": []
  },
  {
   "cell_type": "code",
   "execution_count": null,
   "metadata": {},
   "outputs": [],
   "source": []
  }
 ],
 "metadata": {
  "kernelspec": {
   "display_name": "Python 3.6.10 64-bit ('deeplearning': conda)",
   "language": "python",
   "name": "python361064bitdeeplearningcondaa9daeba634b04f9786f392bcf0f53381"
  },
  "language_info": {
   "codemirror_mode": {
    "name": "ipython",
    "version": 3
   },
   "file_extension": ".py",
   "mimetype": "text/x-python",
   "name": "python",
   "nbconvert_exporter": "python",
   "pygments_lexer": "ipython3",
   "version": "3.6.10-final"
  }
 },
 "nbformat": 4,
 "nbformat_minor": 4
}