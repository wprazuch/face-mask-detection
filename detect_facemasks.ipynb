{
 "cells": [
  {
   "cell_type": "code",
   "execution_count": 1,
   "metadata": {},
   "outputs": [],
   "source": [
    "import numpy as np\n",
    "import tensorflow as tf\n",
    "\n",
    "import os\n",
    "\n",
    "from tensorflow.keras.models import load_model\n",
    "import cv2\n",
    "\n",
    "from face_mask_detection import utils\n",
    "\n",
    "from tensorflow.keras.applications.mobilenet_v2 import preprocess_input\n",
    "from tensorflow.keras.preprocessing.image import img_to_array"
   ]
  },
  {
   "cell_type": "code",
   "execution_count": 2,
   "metadata": {},
   "outputs": [],
   "source": [
    "facemask_classifier = load_model(r'models/facemask-classifier')"
   ]
  },
  {
   "cell_type": "code",
   "execution_count": 3,
   "metadata": {},
   "outputs": [
    {
     "name": "stdout",
     "output_type": "stream",
     "text": [
      "2/2 [==============================] - 0s 138ms/step - loss: 1.4275e-05 - accuracy: 1.0000\n"
     ]
    }
   ],
   "source": [
    "input_shape = (224, 224, 3)\n",
    "\n",
    "test_dataset_path = r'dataset\\test_classification'\n",
    "test_data, test_labels = utils.prepare_dataset(test_dataset_path, input_shape[:-1], {'with_mask': 0, 'without_mask': 1})\n",
    "test_labels_one_hot = utils.to_one_hot(test_labels)\n",
    "\n",
    "test_dataset = tf.data.Dataset.from_tensors(test_data)\n",
    "numpy_list = [item.numpy() for item in test_data]\n",
    "test_dataset_numpy = np.asarray(numpy_list)\n",
    "\n",
    "predictions = facemask_classifier.evaluate(test_dataset_numpy, test_labels_one_hot)"
   ]
  },
  {
   "cell_type": "code",
   "execution_count": 4,
   "metadata": {},
   "outputs": [],
   "source": [
    "def load_caffe_model(caffe_model_path):\n",
    "    prototxt_file = [file for file in os.listdir(caffe_model_path) if file.endswith('.prototxt')][0]\n",
    "    caffe_model_file = [file for file in os.listdir(caffe_model_path) if file.endswith('.caffemodel')][0]\n",
    "    model = cv2.dnn.readNet(os.path.join(caffe_model_path, prototxt_file), os.path.join(caffe_model_path, caffe_model_file))\n",
    "    return model"
   ]
  },
  {
   "cell_type": "code",
   "execution_count": 5,
   "metadata": {},
   "outputs": [],
   "source": [
    "face_detector = load_caffe_model(r'models/face-detector')"
   ]
  },
  {
   "cell_type": "code",
   "execution_count": 6,
   "metadata": {},
   "outputs": [
    {
     "data": {
      "text/plain": [
       "<dnn_Net 000001A1440B8950>"
      ]
     },
     "execution_count": 6,
     "metadata": {},
     "output_type": "execute_result"
    }
   ],
   "source": [
    "face_detector"
   ]
  },
  {
   "cell_type": "code",
   "execution_count": 7,
   "metadata": {},
   "outputs": [],
   "source": [
    "test_image = r'dataset/test_detection/5.jpg'"
   ]
  },
  {
   "cell_type": "code",
   "execution_count": 8,
   "metadata": {},
   "outputs": [],
   "source": [
    "image = cv2.imread(test_image)\n",
    "(h, w) = image.shape[:2]"
   ]
  },
  {
   "cell_type": "code",
   "execution_count": 9,
   "metadata": {},
   "outputs": [],
   "source": [
    "blob = cv2.dnn.blobFromImage(image, 1.0, (300, 300), (104.0, 177.0, 123.0))\n",
    "\n",
    "face_detector.setInput(blob)\n",
    "detections = face_detector.forward()"
   ]
  },
  {
   "cell_type": "code",
   "execution_count": null,
   "metadata": {},
   "outputs": [],
   "source": []
  },
  {
   "cell_type": "code",
   "execution_count": 20,
   "metadata": {},
   "outputs": [
    {
     "data": {
      "text/plain": [
       "array([[[[0.        , 1.        , 0.82227284, ..., 0.06675304,\n",
       "          0.7818571 , 0.29796505],\n",
       "         [0.        , 1.        , 0.77985734, ..., 0.24366567,\n",
       "          0.34461167, 0.41631398],\n",
       "         [0.        , 1.        , 0.16484074, ..., 0.11992747,\n",
       "          0.7659547 , 0.24657166],\n",
       "         ...,\n",
       "         [0.        , 1.        , 0.11640719, ..., 0.9277075 ,\n",
       "          0.29969054, 0.96700865],\n",
       "         [0.        , 1.        , 0.11630629, ..., 0.1505827 ,\n",
       "          0.6124235 , 0.18558711],\n",
       "         [0.        , 1.        , 0.11626296, ..., 0.22086473,\n",
       "          0.56655204, 0.26505017]]]], dtype=float32)"
      ]
     },
     "execution_count": 20,
     "metadata": {},
     "output_type": "execute_result"
    }
   ],
   "source": [
    "detections"
   ]
  },
  {
   "cell_type": "code",
   "execution_count": 10,
   "metadata": {},
   "outputs": [],
   "source": [
    "def detect_faces(image, face_detector):\n",
    "    blob = cv2.dnn.blobFromImage(image, 1.0, (300, 300), (104.0, 177.0, 123.0))\n",
    "    face_detector.setInput(blob)\n",
    "    detections = face_detector.forward()\n",
    "    return detections"
   ]
  },
  {
   "cell_type": "code",
   "execution_count": 16,
   "metadata": {},
   "outputs": [],
   "source": [
    "def check_face_masks(image, face_detector, facemask_classifier):\n",
    "    \n",
    "    \n",
    "    detections = detect_faces(image, face_detector)\n",
    "    \n",
    "    for i in range(0, detections.shape[2]):\n",
    "    \n",
    "        confidence = detections[0, 0, i, 2]\n",
    "\n",
    "        if confidence > 0.5:\n",
    "            detection = detections[0, 0, i, 3:7]\n",
    "            face, bounding_box_cords = extract_face(image, detection)\n",
    "        \n",
    "            \n",
    "            (mask, withoutMask) = facemask_classifier.predict(face)[0]\n",
    "            \n",
    "            label = \"Mask\" if mask > withoutMask else \"No Mask\"\n",
    "            color = (0, 255, 0) if label == \"Mask\" else (0, 0, 255)\n",
    "\n",
    "            # include the probability in the label\n",
    "            label = \"{}: {:.2f}%\".format(label, max(mask, withoutMask) * 100)\n",
    "\n",
    "            # display the label and bounding box rectangle on the output\n",
    "            # frame\n",
    "            cv2.putText(image, label, (bounding_box_cords['start_x'], bounding_box_cords['start_y'] - 10),\n",
    "                cv2.FONT_HERSHEY_SIMPLEX, 0.45, color, 2)\n",
    "            cv2.rectangle(image, (bounding_box_cords['start_x'], bounding_box_cords['start_y']), (bounding_box_cords['end_x'], bounding_box_cords['end_y']), color, 2)\n",
    "            \n",
    "            cv2.imshow(\"Output\", image)\n",
    "            cv2.waitKey(0)"
   ]
  },
  {
   "cell_type": "code",
   "execution_count": 17,
   "metadata": {},
   "outputs": [],
   "source": [
    "def extract_face(image, detection):\n",
    "    (h, w) = image.shape[:2]\n",
    "    box = detection * np.array([w, h, w, h])\n",
    "    (startX, startY, endX, endY) = box.astype(\"int\")\n",
    "    \n",
    "    (start_x, start_y) = (max(0, startX), max(0, startY))\n",
    "    (end_x, end_y) = (min(w - 1, endX), min(h - 1, endY))\n",
    "    \n",
    "    bounding_box_cords = {\n",
    "        'start_x' : start_x,\n",
    "        'start_y' : start_y,\n",
    "        'end_x' : end_x,\n",
    "        'end_y' : end_y\n",
    "    }\n",
    "    \n",
    "    face = image[startY:endY, startX:endX]\n",
    "    face = cv2.cvtColor(face, cv2.COLOR_BGR2RGB)\n",
    "    face = cv2.resize(face, (224, 224))\n",
    "    face = img_to_array(face)\n",
    "    face = preprocess_input(face)\n",
    "    face = np.expand_dims(face, axis=0)\n",
    "    \n",
    "    return face, bounding_box_cords"
   ]
  },
  {
   "cell_type": "code",
   "execution_count": 18,
   "metadata": {},
   "outputs": [],
   "source": [
    "test_image = r'dataset/test_detection/5.jpg'\n",
    "image = cv2.imread(test_image)\n",
    "\n",
    "check_face_masks(image, face_detector, facemask_classifier)"
   ]
  },
  {
   "cell_type": "code",
   "execution_count": 10,
   "metadata": {},
   "outputs": [],
   "source": [
    "for i in range(0, detections.shape[2]):\n",
    "        # extract the confidence (i.e., probability) associated with\n",
    "        # the detection\n",
    "        confidence = detections[0, 0, i, 2]\n",
    "\n",
    "        # filter out weak detections by ensuring the confidence is\n",
    "        # greater than the minimum confidence\n",
    "        if confidence > 0.5:\n",
    "            # compute the (x, y)-coordinates of the bounding box for\n",
    "            # the object\n",
    "            box = detections[0, 0, i, 3:7] * np.array([w, h, w, h])\n",
    "            (startX, startY, endX, endY) = box.astype(\"int\")\n",
    "\n",
    "            # ensure the bounding boxes fall within the dimensions of\n",
    "            # the frame\n",
    "            (startX, startY) = (max(0, startX), max(0, startY))\n",
    "            (endX, endY) = (min(w - 1, endX), min(h - 1, endY))\n",
    "\n",
    "            # extract the face ROI, convert it from BGR to RGB channel\n",
    "            # ordering, resize it to 224x224, and preprocess it\n",
    "            face = image[startY:endY, startX:endX]\n",
    "            face = cv2.cvtColor(face, cv2.COLOR_BGR2RGB)\n",
    "            face = cv2.resize(face, (224, 224))\n",
    "            face = img_to_array(face)\n",
    "            face = preprocess_input(face)\n",
    "            face = np.expand_dims(face, axis=0)\n",
    "\n",
    "            # pass the face through the model to determine if the face\n",
    "            # has a mask or not\n",
    "            (mask, withoutMask) = facemask_classifier.predict(face)[0]\n",
    "\n",
    "            # determine the class label and color we'll use to draw\n",
    "            # the bounding box and text\n",
    "            label = \"Mask\" if mask > withoutMask else \"No Mask\"\n",
    "            color = (0, 255, 0) if label == \"Mask\" else (0, 0, 255)\n",
    "\n",
    "            # include the probability in the label\n",
    "            label = \"{}: {:.2f}%\".format(label, max(mask, withoutMask) * 100)\n",
    "\n",
    "            # display the label and bounding box rectangle on the output\n",
    "            # frame\n",
    "            cv2.putText(image, label, (startX, startY - 10),\n",
    "                cv2.FONT_HERSHEY_SIMPLEX, 0.45, color, 2)\n",
    "            cv2.rectangle(image, (startX, startY), (endX, endY), color, 2)"
   ]
  },
  {
   "cell_type": "code",
   "execution_count": 11,
   "metadata": {},
   "outputs": [
    {
     "data": {
      "text/plain": [
       "0"
      ]
     },
     "execution_count": 11,
     "metadata": {},
     "output_type": "execute_result"
    }
   ],
   "source": [
    "cv2.imshow(\"Output\", image)\n",
    "cv2.waitKey(0)"
   ]
  },
  {
   "cell_type": "code",
   "execution_count": null,
   "metadata": {},
   "outputs": [],
   "source": []
  },
  {
   "cell_type": "code",
   "execution_count": null,
   "metadata": {},
   "outputs": [],
   "source": []
  },
  {
   "cell_type": "code",
   "execution_count": null,
   "metadata": {},
   "outputs": [],
   "source": []
  },
  {
   "cell_type": "code",
   "execution_count": null,
   "metadata": {},
   "outputs": [],
   "source": []
  },
  {
   "cell_type": "code",
   "execution_count": null,
   "metadata": {},
   "outputs": [],
   "source": []
  },
  {
   "cell_type": "code",
   "execution_count": null,
   "metadata": {},
   "outputs": [],
   "source": []
  },
  {
   "cell_type": "code",
   "execution_count": null,
   "metadata": {},
   "outputs": [],
   "source": []
  },
  {
   "cell_type": "code",
   "execution_count": null,
   "metadata": {},
   "outputs": [],
   "source": []
  },
  {
   "cell_type": "code",
   "execution_count": null,
   "metadata": {},
   "outputs": [],
   "source": []
  },
  {
   "cell_type": "code",
   "execution_count": null,
   "metadata": {},
   "outputs": [],
   "source": []
  },
  {
   "cell_type": "code",
   "execution_count": null,
   "metadata": {},
   "outputs": [],
   "source": []
  },
  {
   "cell_type": "code",
   "execution_count": null,
   "metadata": {},
   "outputs": [],
   "source": []
  },
  {
   "cell_type": "code",
   "execution_count": null,
   "metadata": {},
   "outputs": [],
   "source": []
  },
  {
   "cell_type": "code",
   "execution_count": null,
   "metadata": {},
   "outputs": [],
   "source": []
  },
  {
   "cell_type": "code",
   "execution_count": null,
   "metadata": {},
   "outputs": [],
   "source": []
  }
 ],
 "metadata": {
  "kernelspec": {
   "display_name": "Python 3",
   "language": "python",
   "name": "python3"
  },
  "language_info": {
   "codemirror_mode": {
    "name": "ipython",
    "version": 3
   },
   "file_extension": ".py",
   "mimetype": "text/x-python",
   "name": "python",
   "nbconvert_exporter": "python",
   "pygments_lexer": "ipython3",
   "version": "3.6.10"
  }
 },
 "nbformat": 4,
 "nbformat_minor": 4
}
