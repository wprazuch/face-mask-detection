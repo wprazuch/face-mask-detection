{
 "cells": [
  {
   "cell_type": "code",
   "execution_count": 1,
   "metadata": {},
   "outputs": [],
   "source": [
    "import tensorflow as tf"
   ]
  },
  {
   "cell_type": "code",
   "execution_count": 2,
   "metadata": {},
   "outputs": [
    {
     "data": {
      "text/plain": [
       "[PhysicalDevice(name='/physical_device:GPU:0', device_type='GPU')]"
      ]
     },
     "execution_count": 2,
     "metadata": {},
     "output_type": "execute_result"
    }
   ],
   "source": [
    "tf.config.list_physical_devices('GPU')"
   ]
  },
  {
   "cell_type": "code",
   "execution_count": 4,
   "metadata": {},
   "outputs": [
    {
     "data": {
      "text/plain": [
       "True"
      ]
     },
     "execution_count": 4,
     "metadata": {},
     "output_type": "execute_result"
    }
   ],
   "source": [
    "tf.test.is_built_with_xla()"
   ]
  },
  {
   "cell_type": "code",
   "execution_count": null,
   "metadata": {},
   "outputs": [],
   "source": []
  },
  {
   "cell_type": "code",
   "execution_count": 1,
   "metadata": {},
   "outputs": [],
   "source": [
    "import tensorflow as tf\n",
    "import numpy as np\n",
    "import os\n",
    "\n",
    "from tensorflow.keras.preprocessing.image import img_to_array, load_img\n",
    "from tensorflow.image import resize\n",
    "\n",
    "from tensorflow.keras.applications.mobilenet import preprocess_input\n",
    "from tensorflow.keras.applications import MobileNetV2\n",
    "from tensorflow.keras import layers\n",
    "\n",
    "from sklearn.preprocessing import OneHotEncoder\n",
    "\n",
    "from tensorflow.keras.preprocessing.image import ImageDataGenerator\n",
    "import matplotlib.pyplot as plt\n",
    "\n",
    "\n",
    "tf.random.set_seed(13)\n",
    "np.random.seed(13)"
   ]
  },
  {
   "cell_type": "code",
   "execution_count": 2,
   "metadata": {},
   "outputs": [],
   "source": [
    "LEARNING_RATE = 1e-4\n",
    "EPOCHS = 20\n",
    "BATCH_SIZE = 32"
   ]
  },
  {
   "cell_type": "code",
   "execution_count": 3,
   "metadata": {},
   "outputs": [],
   "source": [
    "images_path = 'dataset/chandrikadeb'"
   ]
  },
  {
   "cell_type": "code",
   "execution_count": 4,
   "metadata": {},
   "outputs": [],
   "source": [
    "input_shape = (224, 224, 3)"
   ]
  },
  {
   "cell_type": "code",
   "execution_count": 5,
   "metadata": {},
   "outputs": [],
   "source": [
    "def prepare_dataset(dataset_path, input_shape, class_mapping):\n",
    "\n",
    "    dir_classes = os.listdir(dataset_path)\n",
    "    data = []\n",
    "    labels = []\n",
    "    exts = ('.png', '.jpg', '.jpeg')\n",
    "\n",
    "\n",
    "    for class_directory in dir_classes:\n",
    "        dir_path = os.path.join(dataset_path, class_directory)\n",
    "        imgs_filenames = [filename for filename in os.listdir(dir_path) if filename.endswith(exts)]\n",
    "        imgs_full_paths = [os.path.join(dir_path, img_filename) for img_filename in imgs_filenames]\n",
    "        for img_path in imgs_full_paths:\n",
    "            img = img_to_array(load_img(img_path))\n",
    "            img = preprocess_image(img, input_shape)\n",
    "            data.append(img)\n",
    "            labels.append(class_mapping[class_directory])\n",
    "\n",
    "    return data, labels\n"
   ]
  },
  {
   "cell_type": "code",
   "execution_count": 6,
   "metadata": {},
   "outputs": [],
   "source": [
    "def preprocess_image(image, input_shape):\n",
    "    image = preprocess_input(image)\n",
    "    image = resize(image, input_shape)\n",
    "    return image"
   ]
  },
  {
   "cell_type": "code",
   "execution_count": 7,
   "metadata": {},
   "outputs": [],
   "source": [
    "# data, labels = prepare_dataset(images_path, input_shape[:-1])"
   ]
  },
  {
   "cell_type": "code",
   "execution_count": 8,
   "metadata": {},
   "outputs": [],
   "source": [
    "def to_one_hot(labels):\n",
    "    onehot = OneHotEncoder()\n",
    "    labels = np.array(labels).reshape(-1, 1)\n",
    "    labels_one_hot = onehot.fit_transform(labels).toarray()\n",
    "    \n",
    "    return labels_one_hot"
   ]
  },
  {
   "cell_type": "code",
   "execution_count": 9,
   "metadata": {},
   "outputs": [],
   "source": [
    "# labels_one_hot = to_one_hot(labels)"
   ]
  },
  {
   "cell_type": "code",
   "execution_count": 10,
   "metadata": {
    "tags": []
   },
   "outputs": [],
   "source": [
    "from tensorflow.keras import Model\n",
    "\n",
    "def construct_classification_model(input_shape):\n",
    "    mobilenet = MobileNetV2(include_top=False, weights='imagenet', input_shape=input_shape)\n",
    "    for layer in mobilenet.layers:\n",
    "        layer.trainable = False\n",
    "    mobilenet_out = mobilenet.output\n",
    "    model = layers.GlobalAveragePooling2D()(mobilenet_out)\n",
    "    model = layers.Dense(512, activation='relu')(model)\n",
    "    model = layers.Dropout(0.5)(model)\n",
    "    model = layers.Dense(2, activation='softmax')(model)\n",
    "\n",
    "    network = Model(inputs=[mobilenet.input], outputs=[model])\n",
    "\n",
    "    return network\n"
   ]
  },
  {
   "cell_type": "code",
   "execution_count": 11,
   "metadata": {},
   "outputs": [],
   "source": [
    "model = construct_classification_model(input_shape)"
   ]
  },
  {
   "cell_type": "code",
   "execution_count": 12,
   "metadata": {},
   "outputs": [],
   "source": [
    "img_data_gen = ImageDataGenerator(\n",
    "    rescale=1./255., samplewise_center=True,\n",
    "    samplewise_std_normalization = True,\n",
    "    rotation_range=30, zoom_range=0.10,\n",
    "    width_shift_range=0.2, height_shift_range=0.2,\n",
    "    shear_range=0.15, horizontal_flip=True,\n",
    "    fill_mode='nearest',\n",
    "    validation_split=0.2\n",
    ")"
   ]
  },
  {
   "cell_type": "code",
   "execution_count": 13,
   "metadata": {},
   "outputs": [
    {
     "name": "stdout",
     "output_type": "stream",
     "text": [
      "Found 3067 images belonging to 2 classes.\n",
      "Found 766 images belonging to 2 classes.\n"
     ]
    }
   ],
   "source": [
    "train_generator = img_data_gen.flow_from_directory(\n",
    "    images_path, \n",
    "    subset='training',\n",
    "    batch_size=BATCH_SIZE\n",
    ")\n",
    "\n",
    "validation_generator = img_data_gen.flow_from_directory(\n",
    "    images_path,\n",
    "    subset='validation',\n",
    "    batch_size=BATCH_SIZE\n",
    ")"
   ]
  },
  {
   "cell_type": "code",
   "execution_count": 14,
   "metadata": {},
   "outputs": [
    {
     "data": {
      "text/plain": [
       "{'with_mask': 0, 'without_mask': 1}"
      ]
     },
     "execution_count": 14,
     "metadata": {},
     "output_type": "execute_result"
    }
   ],
   "source": [
    "train_generator.class_indices"
   ]
  },
  {
   "cell_type": "code",
   "execution_count": 15,
   "metadata": {},
   "outputs": [],
   "source": [
    "model.compile(loss='binary_crossentropy', optimizer='adam', metrics=['accuracy'])"
   ]
  },
  {
   "cell_type": "code",
   "execution_count": 16,
   "metadata": {},
   "outputs": [
    {
     "name": "stdout",
     "output_type": "stream",
     "text": [
      "Epoch 1/20\n",
      "39/96 [===========>..................] - ETA: 24s - loss: 0.2766 - accuracy: 0.8974"
     ]
    },
    {
     "name": "stderr",
     "output_type": "stream",
     "text": [
      "C:\\ProgramData\\Anaconda3\\envs\\deeplearning\\lib\\site-packages\\PIL\\Image.py:932: UserWarning: Palette images with Transparency expressed in bytes should be converted to RGBA images\n",
      "  \"Palette images with Transparency expressed in bytes should be \"\n"
     ]
    },
    {
     "name": "stdout",
     "output_type": "stream",
     "text": [
      "96/96 [==============================] - 56s 581ms/step - loss: 0.1752 - accuracy: 0.9371 - val_loss: 0.1244 - val_accuracy: 0.9530\n",
      "Epoch 2/20\n",
      "96/96 [==============================] - 52s 538ms/step - loss: 0.0841 - accuracy: 0.9707 - val_loss: 0.0288 - val_accuracy: 0.9922\n",
      "Epoch 3/20\n",
      "96/96 [==============================] - 50s 518ms/step - loss: 0.0710 - accuracy: 0.9739 - val_loss: 0.0337 - val_accuracy: 0.9883\n",
      "Epoch 4/20\n",
      "96/96 [==============================] - 50s 522ms/step - loss: 0.0612 - accuracy: 0.9742 - val_loss: 0.0251 - val_accuracy: 0.9896\n",
      "Epoch 5/20\n",
      "96/96 [==============================] - 50s 520ms/step - loss: 0.0483 - accuracy: 0.9801 - val_loss: 0.0439 - val_accuracy: 0.9856\n",
      "Epoch 6/20\n",
      "96/96 [==============================] - 50s 521ms/step - loss: 0.0527 - accuracy: 0.9798 - val_loss: 0.0233 - val_accuracy: 0.9909\n",
      "Epoch 7/20\n",
      "96/96 [==============================] - 50s 522ms/step - loss: 0.0405 - accuracy: 0.9843 - val_loss: 0.0289 - val_accuracy: 0.9909\n",
      "Epoch 8/20\n",
      "96/96 [==============================] - 50s 518ms/step - loss: 0.0505 - accuracy: 0.9817 - val_loss: 0.0175 - val_accuracy: 0.9948\n",
      "Epoch 9/20\n",
      "96/96 [==============================] - 53s 551ms/step - loss: 0.0329 - accuracy: 0.9909 - val_loss: 0.0056 - val_accuracy: 0.9987\n",
      "Epoch 10/20\n",
      "96/96 [==============================] - 58s 607ms/step - loss: 0.0387 - accuracy: 0.9873 - val_loss: 0.0367 - val_accuracy: 0.9843\n",
      "Epoch 11/20\n",
      "96/96 [==============================] - 56s 578ms/step - loss: 0.0325 - accuracy: 0.9892 - val_loss: 0.0930 - val_accuracy: 0.9687\n",
      "Epoch 12/20\n",
      "96/96 [==============================] - 51s 530ms/step - loss: 0.0362 - accuracy: 0.9883 - val_loss: 0.0157 - val_accuracy: 0.9948\n",
      "Epoch 13/20\n",
      "96/96 [==============================] - 52s 537ms/step - loss: 0.0280 - accuracy: 0.9909 - val_loss: 0.0260 - val_accuracy: 0.9935\n",
      "Epoch 14/20\n",
      "96/96 [==============================] - 52s 543ms/step - loss: 0.0389 - accuracy: 0.9883 - val_loss: 0.0486 - val_accuracy: 0.9830\n",
      "Epoch 15/20\n",
      "96/96 [==============================] - 51s 526ms/step - loss: 0.0292 - accuracy: 0.9876 - val_loss: 0.0160 - val_accuracy: 0.9948\n",
      "Epoch 16/20\n",
      "96/96 [==============================] - 52s 539ms/step - loss: 0.0375 - accuracy: 0.9866 - val_loss: 0.0146 - val_accuracy: 0.9961\n",
      "Epoch 17/20\n",
      "96/96 [==============================] - 51s 529ms/step - loss: 0.0286 - accuracy: 0.9905 - val_loss: 0.0181 - val_accuracy: 0.9922\n",
      "Epoch 18/20\n",
      "96/96 [==============================] - 51s 529ms/step - loss: 0.0206 - accuracy: 0.9922 - val_loss: 0.0275 - val_accuracy: 0.9883\n",
      "Epoch 19/20\n",
      "96/96 [==============================] - 50s 524ms/step - loss: 0.0251 - accuracy: 0.9918 - val_loss: 0.0165 - val_accuracy: 0.9948\n",
      "Epoch 20/20\n",
      "96/96 [==============================] - 51s 534ms/step - loss: 0.0393 - accuracy: 0.9863 - val_loss: 0.0176 - val_accuracy: 0.9896\n"
     ]
    }
   ],
   "source": [
    "history = model.fit(train_generator, \n",
    "                    steps_per_epoch=len(train_generator), validation_data=validation_generator,\n",
    "                    validation_steps = len(validation_generator), epochs=20)"
   ]
  },
  {
   "cell_type": "code",
   "execution_count": 28,
   "metadata": {},
   "outputs": [],
   "source": [
    "from tensorflow.keras.models import save_model"
   ]
  },
  {
   "cell_type": "code",
   "execution_count": 29,
   "metadata": {},
   "outputs": [
    {
     "name": "stdout",
     "output_type": "stream",
     "text": [
      "WARNING:tensorflow:From C:\\ProgramData\\Anaconda3\\envs\\deeplearning\\lib\\site-packages\\tensorflow\\python\\training\\tracking\\tracking.py:111: Model.state_updates (from tensorflow.python.keras.engine.training) is deprecated and will be removed in a future version.\n",
      "Instructions for updating:\n",
      "This property should not be used in TensorFlow 2.0, as updates are applied automatically.\n",
      "WARNING:tensorflow:From C:\\ProgramData\\Anaconda3\\envs\\deeplearning\\lib\\site-packages\\tensorflow\\python\\training\\tracking\\tracking.py:111: Layer.updates (from tensorflow.python.keras.engine.base_layer) is deprecated and will be removed in a future version.\n",
      "Instructions for updating:\n",
      "This property should not be used in TensorFlow 2.0, as updates are applied automatically.\n",
      "INFO:tensorflow:Assets written to: models/facemask-classification\\assets\n"
     ]
    }
   ],
   "source": [
    "model.save('models/facemask-classification')"
   ]
  },
  {
   "cell_type": "code",
   "execution_count": 17,
   "metadata": {},
   "outputs": [],
   "source": [
    "loss, accuracy, val_loss, val_accuracy = history.history.values()"
   ]
  },
  {
   "cell_type": "code",
   "execution_count": 18,
   "metadata": {},
   "outputs": [],
   "source": [
    "test_dataset_path = 'dataset/test'"
   ]
  },
  {
   "cell_type": "code",
   "execution_count": 19,
   "metadata": {},
   "outputs": [
    {
     "data": {
      "text/plain": [
       "{'with_mask': 0, 'without_mask': 1}"
      ]
     },
     "execution_count": 19,
     "metadata": {},
     "output_type": "execute_result"
    }
   ],
   "source": [
    "train_generator.class_indices"
   ]
  },
  {
   "cell_type": "code",
   "execution_count": 20,
   "metadata": {},
   "outputs": [],
   "source": [
    "test_data, test_labels = prepare_dataset(test_dataset_path, input_shape[:-1], train_generator.class_indices)"
   ]
  },
  {
   "cell_type": "code",
   "execution_count": 21,
   "metadata": {},
   "outputs": [],
   "source": [
    "test_labels_one_hot = to_one_hot(test_labels)"
   ]
  },
  {
   "cell_type": "code",
   "execution_count": 22,
   "metadata": {},
   "outputs": [],
   "source": [
    "test_dataset = tf.data.Dataset.from_tensors(test_data)"
   ]
  },
  {
   "cell_type": "code",
   "execution_count": 23,
   "metadata": {},
   "outputs": [],
   "source": [
    "numpy_list = [item.numpy() for item in test_data]"
   ]
  },
  {
   "cell_type": "code",
   "execution_count": 24,
   "metadata": {},
   "outputs": [],
   "source": [
    "test_dataset_numpy = np.asarray(numpy_list)"
   ]
  },
  {
   "cell_type": "code",
   "execution_count": 25,
   "metadata": {},
   "outputs": [
    {
     "data": {
      "text/plain": [
       "(40, 224, 224, 3)"
      ]
     },
     "execution_count": 25,
     "metadata": {},
     "output_type": "execute_result"
    }
   ],
   "source": [
    "test_dataset_numpy.shape"
   ]
  },
  {
   "cell_type": "code",
   "execution_count": 26,
   "metadata": {},
   "outputs": [
    {
     "data": {
      "text/plain": [
       "<TensorDataset shapes: (40, 224, 224, 3), types: tf.float32>"
      ]
     },
     "execution_count": 26,
     "metadata": {},
     "output_type": "execute_result"
    }
   ],
   "source": [
    "test_dataset"
   ]
  },
  {
   "cell_type": "code",
   "execution_count": 27,
   "metadata": {},
   "outputs": [
    {
     "name": "stdout",
     "output_type": "stream",
     "text": [
      "2/2 [==============================] - 0s 140ms/step - loss: 1.4275e-05 - accuracy: 1.0000\n"
     ]
    }
   ],
   "source": [
    "predictions = model.evaluate(test_dataset_numpy, test_labels_one_hot)"
   ]
  },
  {
   "cell_type": "code",
   "execution_count": null,
   "metadata": {},
   "outputs": [],
   "source": [
    "from tensorflow.keras."
   ]
  },
  {
   "cell_type": "code",
   "execution_count": null,
   "metadata": {},
   "outputs": [],
   "source": []
  },
  {
   "cell_type": "code",
   "execution_count": null,
   "metadata": {},
   "outputs": [],
   "source": []
  },
  {
   "cell_type": "code",
   "execution_count": null,
   "metadata": {},
   "outputs": [],
   "source": []
  }
 ],
 "metadata": {
  "kernelspec": {
   "display_name": "Python 3",
   "language": "python",
   "name": "python3"
  },
  "language_info": {
   "codemirror_mode": {
    "name": "ipython",
    "version": 3
   },
   "file_extension": ".py",
   "mimetype": "text/x-python",
   "name": "python",
   "nbconvert_exporter": "python",
   "pygments_lexer": "ipython3",
   "version": "3.6.10"
  }
 },
 "nbformat": 4,
 "nbformat_minor": 4
}
